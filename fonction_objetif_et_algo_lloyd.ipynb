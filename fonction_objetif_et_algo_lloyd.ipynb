{
  "nbformat": 4,
  "nbformat_minor": 0,
  "metadata": {
    "kernelspec": {
      "display_name": "Python 3",
      "language": "python",
      "name": "python3"
    },
    "language_info": {
      "codemirror_mode": {
        "name": "ipython",
        "version": 3
      },
      "file_extension": ".py",
      "mimetype": "text/x-python",
      "name": "python",
      "nbconvert_exporter": "python",
      "pygments_lexer": "ipython3",
      "version": "3.7.3"
    },
    "colab": {
      "name": "fonction objet et algo.ipynb",
      "provenance": [],
      "collapsed_sections": [],
      "toc_visible": true
    }
  },
  "cells": [
    {
      "cell_type": "code",
      "metadata": {
        "id": "DHnAL3ik2beL",
        "colab_type": "code",
        "colab": {}
      },
      "source": [
        "import numpy as np\n",
        "import pandas as pd \n",
        "import matplotlib.pyplot as plt"
      ],
      "execution_count": 0,
      "outputs": []
    },
    {
      "cell_type": "markdown",
      "metadata": {
        "id": "sAUQEBs62bea",
        "colab_type": "text"
      },
      "source": [
        "# Fonction objectif du clustering avec données manquantes \n",
        "\n",
        "\n",
        "Soit $(X_i)_{i=1...n}$ nos observations de dimension $p$. \n",
        "Nous avons aussi la matrice $\\Omega$ qui correspond à la donnée disponible (matrice de 0 et 1).\n",
        "\n",
        "Dans ce contexte de donnée manquante nous allons noté $Y_i= (X_i,\\Omega_i)$ le couple de l'observation et de la donnée disponible élement de $\\mathbb{R}^p\\times \\mathbb{N}^p$ . \n",
        "\n",
        "Nous définissons l'addition classiquement :\n",
        "$$(x,\\omega)+(y,\\omega')=(x+x',\\omega+ \\omega')$$\n",
        "et le produit avec un scalaire : \n",
        "$$\\lambda. (x,\\omega)= (\\lambda.x,\\omega)$$\n",
        "\n",
        "On prend alors comme semi norme : \n",
        "$$N((x,\\omega))= \\left(\\frac{\\sum_{i=1}^p \\mathbb{1}_{\\omega_i>0}x_i^2}{\\sum_{i=1}^p \\mathbb{1}_{\\omega_i>0}}\\right)^{1/2}$$\n",
        "\n",
        "La fonction de moyennisation : Si $y=(x_i,\\omega_i)_{i=1...p}$ alors $m(y)=\\left(\\frac{x_i}{\\max(\\omega_i,1)},\\min(\\omega_i,1)\\right)_{i=1...p}$ \n",
        "\n",
        "\n",
        "\n",
        "Le but est de trouver une $k$-partition de $\\{1,...,n\\}$ que l'on note $C_1,...,C_k$ telle que l'on minimise la fonction :\n",
        "\n",
        "$$\\phi(C_1,...,C_k)= \\sum_{i=1}^k\\sum_{j\\in C_i}N(Y_j-M_i)$$\n",
        "\n",
        "où $$M_i=m\\left(\\sum_{j\\in C_i}Y_j\\right)$$\n",
        "Le centroïde du cluster $C_i$\n",
        "\n",
        "Dans nos données, la valeur de $\\omega_i$ sera donnée par le fait de savoir si une variable a la valeur *NaN* ou pas.\n"
      ]
    },
    {
      "cell_type": "code",
      "metadata": {
        "id": "ci1UkBqb2bef",
        "colab_type": "code",
        "colab": {}
      },
      "source": [
        "def centroide (X,Omega):\n",
        "    \"\"\"retourne le centroide de X filtré par Omega \"\"\"\n",
        "    Omegap= Omega.sum(axis=0)\n",
        "    D= np.array([1/max(1,c)for c in Omegap])\n",
        "    return (D*np.sum(X,axis=0),Omegap)\n",
        "\n",
        "def norme2(Y):\n",
        "    \"\"\"Semi norme 2 d'une variable filtré \"\"\"\n",
        "    (X,Omega)=Y\n",
        "    return np.sqrt(np.sum(Omega*X*X)/np.sum(Omega))\n",
        "\n",
        "def distance(Y,Yp):\n",
        "    \"\"\"Semi distance \"\"\"\n",
        "    X,Omega=Y\n",
        "    Xp,Omegap=Yp\n",
        "    Z= X-Xp\n",
        "    Om= Omega+Omegap -Omega*Omegap\n",
        "    return norme2((Z,Om))\n",
        "    \n",
        "\n",
        "def energie(X,Omega):\n",
        "    \"\"\"retourne l'énergie d'un cluster \"\"\"\n",
        "    M=centroide(X,Omega)\n",
        "    N=len(X)\n",
        "    return sum([distance((X[i],Omega[i]),M) for i in range(N)])\n",
        "    \n",
        "\n",
        "def phi(C,X,Omega):\n",
        "    \"\"\"retourne la somme des energie de chaque cluster \"\"\"\n",
        "    k= np.max(C)+1\n",
        "    return sum([energie(X[C==i],Omega[C==i]) for i in range(k)])"
      ],
      "execution_count": 0,
      "outputs": []
    },
    {
      "cell_type": "markdown",
      "metadata": {
        "id": "H4B8jiuz2bep",
        "colab_type": "text"
      },
      "source": [
        "## Heuristique classique \n",
        "\n",
        "On va faire l'algorithme classique des k_means comme si on avait la donnée complete, mais en utilisant notre semi norme et notre moyenne "
      ]
    },
    {
      "cell_type": "code",
      "metadata": {
        "id": "WuqfzApC2bes",
        "colab_type": "code",
        "colab": {}
      },
      "source": [
        "def centroidePlusProche(Y,M):\n",
        "    k=len(M)\n",
        "    return np.argmin([distance(Y,M[i]) for i in range(k)])"
      ],
      "execution_count": 0,
      "outputs": []
    },
    {
      "cell_type": "code",
      "metadata": {
        "id": "QdkA9Irp2be3",
        "colab_type": "code",
        "colab": {}
      },
      "source": [
        "def k_means_donnée_manquantes (X,Omega,k,iter_max):\n",
        "    \"\"\"heuristique des k-means avec donnée manquante\"\"\"\n",
        "    n=len(X)\n",
        "    p=len(X[0])\n",
        "    M=[0 for i in range(k)]\n",
        "    C=np.random.randint(k, size=n)\n",
        "    E=[]\n",
        "    \n",
        "    for N in range(iter_max):\n",
        "        # calcul des centroide\n",
        "        for j in range(k):\n",
        "            M[j]= centroide(X[C==j],Omega[C==j])\n",
        "        # Calcul des nouveaux cluster \n",
        "        for i in range(n):\n",
        "            Y= (X[i],Omega[i])\n",
        "            C[i]= centroidePlusProche(Y,M)\n",
        "        E.append( phi(C,X,Omega)) \n",
        "    return (C,E)"
      ],
      "execution_count": 0,
      "outputs": []
    },
    {
      "cell_type": "code",
      "metadata": {
        "id": "BZOX-56y2be_",
        "colab_type": "code",
        "outputId": "f6760297-6274-4666-9088-dca553278a90",
        "colab": {
          "base_uri": "https://localhost:8080/",
          "height": 269
        }
      },
      "source": [
        "# test sur un echantillon genéré aleatoirement \n",
        "n= 100\n",
        "p=300\n",
        "\n",
        "X= np.random.normal(size=(n,p))\n",
        "Omega= np.random.randint(2,size=(n,p))  # la moitié des donnée disponible dans ce test \n",
        "C,E= k_means_donnée_manquantes (X,Omega,10,100)\n",
        "plt.plot(E) # graphe de phi en fonction du nombre d'itération \n",
        "plt.show()"
      ],
      "execution_count": 0,
      "outputs": [
        {
          "output_type": "display_data",
          "data": {
            "image/png": "[encoded data removed]",
            "text/plain": [
              "<Figure size 432x288 with 1 Axes>"
            ]
          },
          "metadata": {
            "tags": [],
            "needs_background": "light"
          }
        }
      ]
    },
    {
      "cell_type": "markdown",
      "metadata": {
        "id": "DaKEdCFvZY04",
        "colab_type": "text"
      },
      "source": [
        "## Utilisation des données de la BDF\n"
      ]
    },
    {
      "cell_type": "code",
      "metadata": {
        "id": "qq4GLr9zZhfG",
        "colab_type": "code",
        "outputId": "974580f5-b255-4a03-b645-6001d9ff916a",
        "colab": {
          "base_uri": "https://localhost:8080/",
          "height": 372
        }
      },
      "source": [
        "df= pd.read_csv('dBFin.csv',sep=';')\n",
        "#df.describe()\n",
        "import datetime\n",
        "df['date']=pd.to_datetime(df.Date)\n",
        "df.sort_values(by=['date'],inplace=True)\n",
        "df\n",
        "date = df['Date']\n",
        "del df['Date']\n",
        "del df['date']\n",
        "df.describe()"
      ],
      "execution_count": 0,
      "outputs": [
        {
          "output_type": "execute_result",
          "data": {
            "text/html": [
              "<div>\n",
              "<style scoped>\n",
              "    .dataframe tbody tr th:only-of-type {\n",
              "        vertical-align: middle;\n",
              "    }\n",
              "\n",
              "    .dataframe tbody tr th {\n",
              "        vertical-align: top;\n",
              "    }\n",
              "\n",
              "    .dataframe thead th {\n",
              "        text-align: right;\n",
              "    }\n",
              "</style>\n",
              "<table border=\"1\" class=\"dataframe\">\n",
              "  <thead>\n",
              "    <tr style=\"text-align: right;\">\n",
              "      <th></th>\n",
              "      <th>crédits/dépôts</th>\n",
              "      <th>cours/valeur banques</th>\n",
              "      <th>rentabilité capitaux propres</th>\n",
              "      <th>rentabilité actifs</th>\n",
              "      <th>actifs bancaires consolidés</th>\n",
              "      <th>actifs des GSIB</th>\n",
              "      <th>inflation</th>\n",
              "      <th>Balance budgétaire Fr</th>\n",
              "      <th>Solde des transactions courantes Fr</th>\n",
              "      <th>CAC total return index</th>\n",
              "      <th>Eurostoxx total return index</th>\n",
              "      <th>CAC index</th>\n",
              "      <th>Eurostoxx Index</th>\n",
              "      <th>CAC financier</th>\n",
              "      <th>CAC biens consommation</th>\n",
              "      <th>CAC pétrole/gaz</th>\n",
              "      <th>Levier bancaire</th>\n",
              "    </tr>\n",
              "  </thead>\n",
              "  <tbody>\n",
              "    <tr>\n",
              "      <th>count</th>\n",
              "      <td>12.000000</td>\n",
              "      <td>14.000000</td>\n",
              "      <td>13.000000</td>\n",
              "      <td>13.000000</td>\n",
              "      <td>1.000000e+01</td>\n",
              "      <td>14.000000</td>\n",
              "      <td>233.000000</td>\n",
              "      <td>19.000000</td>\n",
              "      <td>19.000000</td>\n",
              "      <td>221.000000</td>\n",
              "      <td>221.000000</td>\n",
              "      <td>221.000000</td>\n",
              "      <td>221.000000</td>\n",
              "      <td>233.000000</td>\n",
              "      <td>233.000000</td>\n",
              "      <td>233.000000</td>\n",
              "      <td>10.000000</td>\n",
              "    </tr>\n",
              "    <tr>\n",
              "      <th>mean</th>\n",
              "      <td>1.188390</td>\n",
              "      <td>93.675396</td>\n",
              "      <td>0.068762</td>\n",
              "      <td>0.302778</td>\n",
              "      <td>1.010523e+06</td>\n",
              "      <td>0.809225</td>\n",
              "      <td>1.585837</td>\n",
              "      <td>-3.652632</td>\n",
              "      <td>-0.211579</td>\n",
              "      <td>8567.558462</td>\n",
              "      <td>916.817873</td>\n",
              "      <td>4304.000588</td>\n",
              "      <td>3145.527330</td>\n",
              "      <td>772.454163</td>\n",
              "      <td>1367.767725</td>\n",
              "      <td>824.254249</td>\n",
              "      <td>4.183598</td>\n",
              "    </tr>\n",
              "    <tr>\n",
              "      <th>std</th>\n",
              "      <td>0.077531</td>\n",
              "      <td>49.141936</td>\n",
              "      <td>0.031939</td>\n",
              "      <td>0.120707</td>\n",
              "      <td>4.829340e+04</td>\n",
              "      <td>0.015929</td>\n",
              "      <td>0.885864</td>\n",
              "      <td>1.552549</td>\n",
              "      <td>0.897040</td>\n",
              "      <td>2619.201992</td>\n",
              "      <td>243.194919</td>\n",
              "      <td>818.677368</td>\n",
              "      <td>582.487975</td>\n",
              "      <td>212.410551</td>\n",
              "      <td>641.330122</td>\n",
              "      <td>123.852426</td>\n",
              "      <td>0.509209</td>\n",
              "    </tr>\n",
              "    <tr>\n",
              "      <th>min</th>\n",
              "      <td>1.092967</td>\n",
              "      <td>42.287482</td>\n",
              "      <td>0.025887</td>\n",
              "      <td>0.122833</td>\n",
              "      <td>9.398385e+05</td>\n",
              "      <td>0.777312</td>\n",
              "      <td>-0.800000</td>\n",
              "      <td>-7.200000</td>\n",
              "      <td>-1.690000</td>\n",
              "      <td>4060.710000</td>\n",
              "      <td>457.190000</td>\n",
              "      <td>2692.490000</td>\n",
              "      <td>1993.930000</td>\n",
              "      <td>375.390000</td>\n",
              "      <td>573.990000</td>\n",
              "      <td>550.290000</td>\n",
              "      <td>3.463860</td>\n",
              "    </tr>\n",
              "    <tr>\n",
              "      <th>25%</th>\n",
              "      <td>1.127493</td>\n",
              "      <td>67.371091</td>\n",
              "      <td>0.053639</td>\n",
              "      <td>0.214270</td>\n",
              "      <td>9.691203e+05</td>\n",
              "      <td>0.808396</td>\n",
              "      <td>1.000000</td>\n",
              "      <td>-4.100000</td>\n",
              "      <td>-0.675000</td>\n",
              "      <td>6554.430000</td>\n",
              "      <td>721.420000</td>\n",
              "      <td>3678.150000</td>\n",
              "      <td>2715.300000</td>\n",
              "      <td>653.700000</td>\n",
              "      <td>896.920000</td>\n",
              "      <td>744.790000</td>\n",
              "      <td>3.759638</td>\n",
              "    </tr>\n",
              "    <tr>\n",
              "      <th>50%</th>\n",
              "      <td>1.170685</td>\n",
              "      <td>75.998972</td>\n",
              "      <td>0.062287</td>\n",
              "      <td>0.333584</td>\n",
              "      <td>1.010786e+06</td>\n",
              "      <td>0.815300</td>\n",
              "      <td>1.700000</td>\n",
              "      <td>-3.500000</td>\n",
              "      <td>-0.510000</td>\n",
              "      <td>8015.930000</td>\n",
              "      <td>872.140000</td>\n",
              "      <td>4293.920000</td>\n",
              "      <td>3066.260000</td>\n",
              "      <td>751.620000</td>\n",
              "      <td>1155.900000</td>\n",
              "      <td>805.210000</td>\n",
              "      <td>4.163661</td>\n",
              "    </tr>\n",
              "    <tr>\n",
              "      <th>75%</th>\n",
              "      <td>1.261123</td>\n",
              "      <td>98.106172</td>\n",
              "      <td>0.068141</td>\n",
              "      <td>0.357590</td>\n",
              "      <td>1.044076e+06</td>\n",
              "      <td>0.818391</td>\n",
              "      <td>2.200000</td>\n",
              "      <td>-2.650000</td>\n",
              "      <td>0.125000</td>\n",
              "      <td>10163.340000</td>\n",
              "      <td>1094.040000</td>\n",
              "      <td>5000.730000</td>\n",
              "      <td>3527.830000</td>\n",
              "      <td>864.790000</td>\n",
              "      <td>1604.340000</td>\n",
              "      <td>889.630000</td>\n",
              "      <td>4.630793</td>\n",
              "    </tr>\n",
              "    <tr>\n",
              "      <th>max</th>\n",
              "      <td>1.292770</td>\n",
              "      <td>193.549032</td>\n",
              "      <td>0.157807</td>\n",
              "      <td>0.604625</td>\n",
              "      <td>1.083549e+06</td>\n",
              "      <td>0.829353</td>\n",
              "      <td>4.000000</td>\n",
              "      <td>-1.500000</td>\n",
              "      <td>1.710000</td>\n",
              "      <td>14559.320000</td>\n",
              "      <td>1390.280000</td>\n",
              "      <td>6053.900000</td>\n",
              "      <td>4727.710000</td>\n",
              "      <td>1422.460000</td>\n",
              "      <td>3216.430000</td>\n",
              "      <td>1170.210000</td>\n",
              "      <td>4.834006</td>\n",
              "    </tr>\n",
              "  </tbody>\n",
              "</table>\n",
              "</div>"
            ],
            "text/plain": [
              "       crédits/dépôts  cours/valeur banques  ...  CAC pétrole/gaz  Levier bancaire\n",
              "count       12.000000             14.000000  ...       233.000000        10.000000\n",
              "mean         1.188390             93.675396  ...       824.254249         4.183598\n",
              "std          0.077531             49.141936  ...       123.852426         0.509209\n",
              "min          1.092967             42.287482  ...       550.290000         3.463860\n",
              "25%          1.127493             67.371091  ...       744.790000         3.759638\n",
              "50%          1.170685             75.998972  ...       805.210000         4.163661\n",
              "75%          1.261123             98.106172  ...       889.630000         4.630793\n",
              "max          1.292770            193.549032  ...      1170.210000         4.834006\n",
              "\n",
              "[8 rows x 17 columns]"
            ]
          },
          "metadata": {
            "tags": []
          },
          "execution_count": 6
        }
      ]
    },
    {
      "cell_type": "code",
      "metadata": {
        "id": "4YrSWs7PZurl",
        "colab_type": "code",
        "outputId": "e55b1924-01b9-460d-b18f-ad470f13973b",
        "colab": {
          "base_uri": "https://localhost:8080/",
          "height": 35
        }
      },
      "source": [
        "from sklearn import preprocessing\n",
        "M=np.array(df)\n",
        "M = preprocessing.scale(M)\n",
        "\n",
        "M.shape"
      ],
      "execution_count": 0,
      "outputs": [
        {
          "output_type": "execute_result",
          "data": {
            "text/plain": [
              "(240, 17)"
            ]
          },
          "metadata": {
            "tags": []
          },
          "execution_count": 7
        }
      ]
    },
    {
      "cell_type": "code",
      "metadata": {
        "id": "HTnHlj92bBLM",
        "colab_type": "code",
        "colab": {}
      },
      "source": [
        "# on calcul le filtre Omega, on enleve les Nan on les remplace par une valeur \n",
        "#quelconque qui ne sera jamais dans tous les cas jamais observée\n",
        "n,p= M.shape\n",
        "Omega= np.zeros((n,p))\n",
        "M2=M.copy()\n",
        "for i in range (n):\n",
        "  for j in range (p):\n",
        "    if np.isnan(M[i,j]):\n",
        "      M2[i,j]=0 #on enleve la NaN pour evité des bugs\n",
        "    else:\n",
        "      Omega[i,j]=1\n",
        "\n"
      ],
      "execution_count": 0,
      "outputs": []
    },
    {
      "cell_type": "code",
      "metadata": {
        "id": "VhRX_8kybmWL",
        "colab_type": "code",
        "outputId": "5b03a512-474f-4581-9c3f-209b8799c500",
        "colab": {
          "base_uri": "https://localhost:8080/",
          "height": 222
        }
      },
      "source": [
        "c=np.inf\n",
        "CM=np.zeros(240)\n",
        "for i in range(20):\n",
        "  C,E= k_means_donnée_manquantes (M2,Omega,9,10)\n",
        "  e=E.pop()\n",
        "  if e<c:\n",
        "    c=e\n",
        "    CM=C\n",
        "\n",
        "print(len(CM))\n",
        "\n",
        "print(CM)\n",
        "\n"
      ],
      "execution_count": 0,
      "outputs": [
        {
          "output_type": "stream",
          "text": [
            "/usr/local/lib/python3.6/dist-packages/ipykernel_launcher.py:10: RuntimeWarning: invalid value encountered in double_scalars\n",
            "  # Remove the CWD from sys.path while we load stuff.\n"
          ],
          "name": "stderr"
        },
        {
          "output_type": "stream",
          "text": [
            "240\n",
            "[5 5 5 5 5 5 5 5 5 5 5 5 0 5 5 5 5 5 5 5 5 5 5 5 0 5 5 5 5 5 1 1 1 1 1 1 1\n",
            " 1 1 1 1 1 1 1 1 1 1 1 1 5 5 5 5 5 5 5 5 5 5 5 5 5 5 5 5 5 5 5 5 5 5 5 3 6\n",
            " 6 6 6 5 6 6 6 6 6 6 3 6 6 6 6 6 6 6 6 6 6 6 7 5 5 5 7 5 5 5 5 5 1 1 4 1 1\n",
            " 5 5 5 5 5 5 5 5 5 4 5 5 5 5 5 5 5 5 5 5 5 4 5 5 5 5 5 5 1 1 1 1 1 4 5 5 1\n",
            " 1 1 1 5 5 5 5 5 5 5 5 5 5 5 5 5 5 5 5 5 5 5 5 5 5 5 5 5 5 5 5 5 2 2 2 2 2\n",
            " 2 2 2 5 2 2 2 2 5 5 5 5 5 5 5 5 5 5 2 2 2 2 2 2 2 2 2 2 2 2 2 8 2 2 2 8 8\n",
            " 8 8 8 8 2 2 2 2 2 2 2 5 5 5 5 5 5 5]\n"
          ],
          "name": "stdout"
        }
      ]
    },
    {
      "cell_type": "code",
      "metadata": {
        "id": "KpEMRH_BwlCW",
        "colab_type": "code",
        "outputId": "79d9af03-9d71-418a-ad0e-8fe19f675b1c",
        "colab": {
          "base_uri": "https://localhost:8080/",
          "height": 580
        }
      },
      "source": [
        "import plotly.graph_objects as go\n",
        "df['cluster']=CM\n",
        "df['date']=date\n",
        "data= df\n",
        "\n",
        "print( list(df['date'].to_string()))\n",
        "fig = go.Figure(data=go.Scatter(x= date,\n",
        "                                y=data['cluster'],\n",
        "                                mode='markers',\n",
        "                                marker_color=data['cluster'],\n",
        "                                text=pd.to_datetime(df['date']))) # hover text goes here\n",
        "\n",
        "fig.update_layout(title='Cluster dans le temps')\n",
        "fig.show()"
      ],
      "execution_count": 0,
      "outputs": [
        {
          "output_type": "stream",
          "text": [
            "['0', ' ', ' ', ' ', ' ', ' ', ' ', '0', '1', '/', '0', '1', '/', '2', '0', '0', '0', '\\n', '8', '0', ' ', ' ', ' ', ' ', ' ', '0', '1', '/', '0', '2', '/', '2', '0', '0', '0', '\\n', '1', '0', '0', ' ', ' ', ' ', ' ', '0', '1', '/', '0', '3', '/', '2', '0', '0', '0', '\\n', '2', '0', ' ', ' ', ' ', ' ', ' ', '0', '1', '/', '0', '4', '/', '2', '0', '0', '0', '\\n', '1', '2', '0', ' ', ' ', ' ', ' ', '0', '1', '/', '0', '5', '/', '2', '0', '0', '0', '\\n', '1', '4', '0', ' ', ' ', ' ', ' ', '0', '1', '/', '0', '6', '/', '2', '0', '0', '0', '\\n', '4', '0', ' ', ' ', ' ', ' ', ' ', '0', '1', '/', '0', '7', '/', '2', '0', '0', '0', '\\n', '1', '6', '0', ' ', ' ', ' ', ' ', '0', '1', '/', '0', '8', '/', '2', '0', '0', '0', '\\n', '1', '8', '0', ' ', ' ', ' ', ' ', '0', '1', '/', '0', '9', '/', '2', '0', '0', '0', '\\n', '6', '0', ' ', ' ', ' ', ' ', ' ', '0', '1', '/', '1', '0', '/', '2', '0', '0', '0', '\\n', '2', '0', '0', ' ', ' ', ' ', ' ', '0', '1', '/', '1', '1', '/', '2', '0', '0', '0', '\\n', '2', '2', '0', ' ', ' ', ' ', ' ', '0', '1', '/', '1', '2', '/', '2', '0', '0', '0', '\\n', '1', ' ', ' ', ' ', ' ', ' ', ' ', '0', '1', '/', '0', '1', '/', '2', '0', '0', '1', '\\n', '8', '1', ' ', ' ', ' ', ' ', ' ', '0', '1', '/', '0', '2', '/', '2', '0', '0', '1', '\\n', '1', '0', '1', ' ', ' ', ' ', ' ', '0', '1', '/', '0', '3', '/', '2', '0', '0', '1', '\\n', '2', '1', ' ', ' ', ' ', ' ', ' ', '0', '1', '/', '0', '4', '/', '2', '0', '0', '1', '\\n', '1', '2', '1', ' ', ' ', ' ', ' ', '0', '1', '/', '0', '5', '/', '2', '0', '0', '1', '\\n', '1', '4', '1', ' ', ' ', ' ', ' ', '0', '1', '/', '0', '6', '/', '2', '0', '0', '1', '\\n', '4', '1', ' ', ' ', ' ', ' ', ' ', '0', '1', '/', '0', '7', '/', '2', '0', '0', '1', '\\n', '1', '6', '1', ' ', ' ', ' ', ' ', '0', '1', '/', '0', '8', '/', '2', '0', '0', '1', '\\n', '1', '8', '1', ' ', ' ', ' ', ' ', '0', '1', '/', '0', '9', '/', '2', '0', '0', '1', '\\n', '6', '1', ' ', ' ', ' ', ' ', ' ', '0', '1', '/', '1', '0', '/', '2', '0', '0', '1', '\\n', '2', '0', '1', ' ', ' ', ' ', ' ', '0', '1', '/', '1', '1', '/', '2', '0', '0', '1', '\\n', '2', '2', '1', ' ', ' ', ' ', ' ', '0', '1', '/', '1', '2', '/', '2', '0', '0', '1', '\\n', '2', ' ', ' ', ' ', ' ', ' ', ' ', '0', '1', '/', '0', '1', '/', '2', '0', '0', '2', '\\n', '8', '2', ' ', ' ', ' ', ' ', ' ', '0', '1', '/', '0', '2', '/', '2', '0', '0', '2', '\\n', '1', '0', '2', ' ', ' ', ' ', ' ', '0', '1', '/', '0', '3', '/', '2', '0', '0', '2', '\\n', '2', '2', ' ', ' ', ' ', ' ', ' ', '0', '1', '/', '0', '4', '/', '2', '0', '0', '2', '\\n', '1', '2', '2', ' ', ' ', ' ', ' ', '0', '1', '/', '0', '5', '/', '2', '0', '0', '2', '\\n', '1', '4', '2', ' ', ' ', ' ', ' ', '0', '1', '/', '0', '6', '/', '2', '0', '0', '2', '\\n', '4', '2', ' ', ' ', ' ', ' ', ' ', '0', '1', '/', '0', '7', '/', '2', '0', '0', '2', '\\n', '1', '6', '2', ' ', ' ', ' ', ' ', '0', '1', '/', '0', '8', '/', '2', '0', '0', '2', '\\n', '1', '8', '2', ' ', ' ', ' ', ' ', '0', '1', '/', '0', '9', '/', '2', '0', '0', '2', '\\n', '6', '2', ' ', ' ', ' ', ' ', ' ', '0', '1', '/', '1', '0', '/', '2', '0', '0', '2', '\\n', '2', '0', '2', ' ', ' ', ' ', ' ', '0', '1', '/', '1', '1', '/', '2', '0', '0', '2', '\\n', '2', '2', '2', ' ', ' ', ' ', ' ', '0', '1', '/', '1', '2', '/', '2', '0', '0', '2', '\\n', '3', ' ', ' ', ' ', ' ', ' ', ' ', '0', '1', '/', '0', '1', '/', '2', '0', '0', '3', '\\n', '8', '3', ' ', ' ', ' ', ' ', ' ', '0', '1', '/', '0', '2', '/', '2', '0', '0', '3', '\\n', '1', '0', '3', ' ', ' ', ' ', ' ', '0', '1', '/', '0', '3', '/', '2', '0', '0', '3', '\\n', '2', '3', ' ', ' ', ' ', ' ', ' ', '0', '1', '/', '0', '4', '/', '2', '0', '0', '3', '\\n', '1', '2', '3', ' ', ' ', ' ', ' ', '0', '1', '/', '0', '5', '/', '2', '0', '0', '3', '\\n', '1', '4', '3', ' ', ' ', ' ', ' ', '0', '1', '/', '0', '6', '/', '2', '0', '0', '3', '\\n', '4', '3', ' ', ' ', ' ', ' ', ' ', '0', '1', '/', '0', '7', '/', '2', '0', '0', '3', '\\n', '1', '6', '3', ' ', ' ', ' ', ' ', '0', '1', '/', '0', '8', '/', '2', '0', '0', '3', '\\n', '1', '8', '3', ' ', ' ', ' ', ' ', '0', '1', '/', '0', '9', '/', '2', '0', '0', '3', '\\n', '6', '3', ' ', ' ', ' ', ' ', ' ', '0', '1', '/', '1', '0', '/', '2', '0', '0', '3', '\\n', '2', '0', '3', ' ', ' ', ' ', ' ', '0', '1', '/', '1', '1', '/', '2', '0', '0', '3', '\\n', '2', '2', '3', ' ', ' ', ' ', ' ', '0', '1', '/', '1', '2', '/', '2', '0', '0', '3', '\\n', '4', ' ', ' ', ' ', ' ', ' ', ' ', '0', '1', '/', '0', '1', '/', '2', '0', '0', '4', '\\n', '8', '4', ' ', ' ', ' ', ' ', ' ', '0', '1', '/', '0', '2', '/', '2', '0', '0', '4', '\\n', '1', '0', '4', ' ', ' ', ' ', ' ', '0', '1', '/', '0', '3', '/', '2', '0', '0', '4', '\\n', '2', '4', ' ', ' ', ' ', ' ', ' ', '0', '1', '/', '0', '4', '/', '2', '0', '0', '4', '\\n', '1', '2', '4', ' ', ' ', ' ', ' ', '0', '1', '/', '0', '5', '/', '2', '0', '0', '4', '\\n', '1', '4', '4', ' ', ' ', ' ', ' ', '0', '1', '/', '0', '6', '/', '2', '0', '0', '4', '\\n', '4', '4', ' ', ' ', ' ', ' ', ' ', '0', '1', '/', '0', '7', '/', '2', '0', '0', '4', '\\n', '1', '6', '4', ' ', ' ', ' ', ' ', '0', '1', '/', '0', '8', '/', '2', '0', '0', '4', '\\n', '1', '8', '4', ' ', ' ', ' ', ' ', '0', '1', '/', '0', '9', '/', '2', '0', '0', '4', '\\n', '6', '4', ' ', ' ', ' ', ' ', ' ', '0', '1', '/', '1', '0', '/', '2', '0', '0', '4', '\\n', '2', '0', '4', ' ', ' ', ' ', ' ', '0', '1', '/', '1', '1', '/', '2', '0', '0', '4', '\\n', '2', '2', '4', ' ', ' ', ' ', ' ', '0', '1', '/', '1', '2', '/', '2', '0', '0', '4', '\\n', '5', ' ', ' ', ' ', ' ', ' ', ' ', '0', '1', '/', '0', '1', '/', '2', '0', '0', '5', '\\n', '8', '5', ' ', ' ', ' ', ' ', ' ', '0', '1', '/', '0', '2', '/', '2', '0', '0', '5', '\\n', '1', '0', '5', ' ', ' ', ' ', ' ', '0', '1', '/', '0', '3', '/', '2', '0', '0', '5', '\\n', '2', '5', ' ', ' ', ' ', ' ', ' ', '0', '1', '/', '0', '4', '/', '2', '0', '0', '5', '\\n', '1', '2', '5', ' ', ' ', ' ', ' ', '0', '1', '/', '0', '5', '/', '2', '0', '0', '5', '\\n', '1', '4', '5', ' ', ' ', ' ', ' ', '0', '1', '/', '0', '6', '/', '2', '0', '0', '5', '\\n', '4', '5', ' ', ' ', ' ', ' ', ' ', '0', '1', '/', '0', '7', '/', '2', '0', '0', '5', '\\n', '1', '6', '5', ' ', ' ', ' ', ' ', '0', '1', '/', '0', '8', '/', '2', '0', '0', '5', '\\n', '1', '8', '5', ' ', ' ', ' ', ' ', '0', '1', '/', '0', '9', '/', '2', '0', '0', '5', '\\n', '6', '5', ' ', ' ', ' ', ' ', ' ', '0', '1', '/', '1', '0', '/', '2', '0', '0', '5', '\\n', '2', '0', '5', ' ', ' ', ' ', ' ', '0', '1', '/', '1', '1', '/', '2', '0', '0', '5', '\\n', '2', '2', '5', ' ', ' ', ' ', ' ', '0', '1', '/', '1', '2', '/', '2', '0', '0', '5', '\\n', '6', ' ', ' ', ' ', ' ', ' ', ' ', '0', '1', '/', '0', '1', '/', '2', '0', '0', '6', '\\n', '8', '6', ' ', ' ', ' ', ' ', ' ', '0', '1', '/', '0', '2', '/', '2', '0', '0', '6', '\\n', '1', '0', '6', ' ', ' ', ' ', ' ', '0', '1', '/', '0', '3', '/', '2', '0', '0', '6', '\\n', '2', '6', ' ', ' ', ' ', ' ', ' ', '0', '1', '/', '0', '4', '/', '2', '0', '0', '6', '\\n', '1', '2', '6', ' ', ' ', ' ', ' ', '0', '1', '/', '0', '5', '/', '2', '0', '0', '6', '\\n', '1', '4', '6', ' ', ' ', ' ', ' ', '0', '1', '/', '0', '6', '/', '2', '0', '0', '6', '\\n', '4', '6', ' ', ' ', ' ', ' ', ' ', '0', '1', '/', '0', '7', '/', '2', '0', '0', '6', '\\n', '1', '6', '6', ' ', ' ', ' ', ' ', '0', '1', '/', '0', '8', '/', '2', '0', '0', '6', '\\n', '1', '8', '6', ' ', ' ', ' ', ' ', '0', '1', '/', '0', '9', '/', '2', '0', '0', '6', '\\n', '6', '6', ' ', ' ', ' ', ' ', ' ', '0', '1', '/', '1', '0', '/', '2', '0', '0', '6', '\\n', '2', '0', '6', ' ', ' ', ' ', ' ', '0', '1', '/', '1', '1', '/', '2', '0', '0', '6', '\\n', '2', '2', '6', ' ', ' ', ' ', ' ', '0', '1', '/', '1', '2', '/', '2', '0', '0', '6', '\\n', '7', ' ', ' ', ' ', ' ', ' ', ' ', '0', '1', '/', '0', '1', '/', '2', '0', '0', '7', '\\n', '8', '7', ' ', ' ', ' ', ' ', ' ', '0', '1', '/', '0', '2', '/', '2', '0', '0', '7', '\\n', '1', '0', '7', ' ', ' ', ' ', ' ', '0', '1', '/', '0', '3', '/', '2', '0', '0', '7', '\\n', '2', '7', ' ', ' ', ' ', ' ', ' ', '0', '1', '/', '0', '4', '/', '2', '0', '0', '7', '\\n', '1', '2', '7', ' ', ' ', ' ', ' ', '0', '1', '/', '0', '5', '/', '2', '0', '0', '7', '\\n', '1', '4', '7', ' ', ' ', ' ', ' ', '0', '1', '/', '0', '6', '/', '2', '0', '0', '7', '\\n', '4', '7', ' ', ' ', ' ', ' ', ' ', '0', '1', '/', '0', '7', '/', '2', '0', '0', '7', '\\n', '1', '6', '7', ' ', ' ', ' ', ' ', '0', '1', '/', '0', '8', '/', '2', '0', '0', '7', '\\n', '1', '8', '7', ' ', ' ', ' ', ' ', '0', '1', '/', '0', '9', '/', '2', '0', '0', '7', '\\n', '6', '7', ' ', ' ', ' ', ' ', ' ', '0', '1', '/', '1', '0', '/', '2', '0', '0', '7', '\\n', '2', '0', '7', ' ', ' ', ' ', ' ', '0', '1', '/', '1', '1', '/', '2', '0', '0', '7', '\\n', '2', '2', '7', ' ', ' ', ' ', ' ', '0', '1', '/', '1', '2', '/', '2', '0', '0', '7', '\\n', '8', ' ', ' ', ' ', ' ', ' ', ' ', '0', '1', '/', '0', '1', '/', '2', '0', '0', '8', '\\n', '8', '8', ' ', ' ', ' ', ' ', ' ', '0', '1', '/', '0', '2', '/', '2', '0', '0', '8', '\\n', '1', '0', '8', ' ', ' ', ' ', ' ', '0', '1', '/', '0', '3', '/', '2', '0', '0', '8', '\\n', '2', '8', ' ', ' ', ' ', ' ', ' ', '0', '1', '/', '0', '4', '/', '2', '0', '0', '8', '\\n', '1', '2', '8', ' ', ' ', ' ', ' ', '0', '1', '/', '0', '5', '/', '2', '0', '0', '8', '\\n', '1', '4', '8', ' ', ' ', ' ', ' ', '0', '1', '/', '0', '6', '/', '2', '0', '0', '8', '\\n', '4', '8', ' ', ' ', ' ', ' ', ' ', '0', '1', '/', '0', '7', '/', '2', '0', '0', '8', '\\n', '1', '6', '8', ' ', ' ', ' ', ' ', '0', '1', '/', '0', '8', '/', '2', '0', '0', '8', '\\n', '1', '8', '8', ' ', ' ', ' ', ' ', '0', '1', '/', '0', '9', '/', '2', '0', '0', '8', '\\n', '6', '8', ' ', ' ', ' ', ' ', ' ', '0', '1', '/', '1', '0', '/', '2', '0', '0', '8', '\\n', '2', '0', '8', ' ', ' ', ' ', ' ', '0', '1', '/', '1', '1', '/', '2', '0', '0', '8', '\\n', '2', '2', '8', ' ', ' ', ' ', ' ', '0', '1', '/', '1', '2', '/', '2', '0', '0', '8', '\\n', '9', ' ', ' ', ' ', ' ', ' ', ' ', '0', '1', '/', '0', '1', '/', '2', '0', '0', '9', '\\n', '8', '9', ' ', ' ', ' ', ' ', ' ', '0', '1', '/', '0', '2', '/', '2', '0', '0', '9', '\\n', '1', '0', '9', ' ', ' ', ' ', ' ', '0', '1', '/', '0', '3', '/', '2', '0', '0', '9', '\\n', '2', '9', ' ', ' ', ' ', ' ', ' ', '0', '1', '/', '0', '4', '/', '2', '0', '0', '9', '\\n', '1', '2', '9', ' ', ' ', ' ', ' ', '0', '1', '/', '0', '5', '/', '2', '0', '0', '9', '\\n', '1', '4', '9', ' ', ' ', ' ', ' ', '0', '1', '/', '0', '6', '/', '2', '0', '0', '9', '\\n', '4', '9', ' ', ' ', ' ', ' ', ' ', '0', '1', '/', '0', '7', '/', '2', '0', '0', '9', '\\n', '1', '6', '9', ' ', ' ', ' ', ' ', '0', '1', '/', '0', '8', '/', '2', '0', '0', '9', '\\n', '1', '8', '9', ' ', ' ', ' ', ' ', '0', '1', '/', '0', '9', '/', '2', '0', '0', '9', '\\n', '6', '9', ' ', ' ', ' ', ' ', ' ', '0', '1', '/', '1', '0', '/', '2', '0', '0', '9', '\\n', '2', '0', '9', ' ', ' ', ' ', ' ', '0', '1', '/', '1', '1', '/', '2', '0', '0', '9', '\\n', '2', '2', '9', ' ', ' ', ' ', ' ', '0', '1', '/', '1', '2', '/', '2', '0', '0', '9', '\\n', '1', '0', ' ', ' ', ' ', ' ', ' ', '0', '1', '/', '0', '1', '/', '2', '0', '1', '0', '\\n', '9', '0', ' ', ' ', ' ', ' ', ' ', '0', '1', '/', '0', '2', '/', '2', '0', '1', '0', '\\n', '1', '1', '0', ' ', ' ', ' ', ' ', '0', '1', '/', '0', '3', '/', '2', '0', '1', '0', '\\n', '3', '0', ' ', ' ', ' ', ' ', ' ', '0', '1', '/', '0', '4', '/', '2', '0', '1', '0', '\\n', '1', '3', '0', ' ', ' ', ' ', ' ', '0', '1', '/', '0', '5', '/', '2', '0', '1', '0', '\\n', '1', '5', '0', ' ', ' ', ' ', ' ', '0', '1', '/', '0', '6', '/', '2', '0', '1', '0', '\\n', '5', '0', ' ', ' ', ' ', ' ', ' ', '0', '1', '/', '0', '7', '/', '2', '0', '1', '0', '\\n', '1', '7', '0', ' ', ' ', ' ', ' ', '0', '1', '/', '0', '8', '/', '2', '0', '1', '0', '\\n', '1', '9', '0', ' ', ' ', ' ', ' ', '0', '1', '/', '0', '9', '/', '2', '0', '1', '0', '\\n', '7', '0', ' ', ' ', ' ', ' ', ' ', '0', '1', '/', '1', '0', '/', '2', '0', '1', '0', '\\n', '2', '1', '0', ' ', ' ', ' ', ' ', '0', '1', '/', '1', '1', '/', '2', '0', '1', '0', '\\n', '2', '3', '0', ' ', ' ', ' ', ' ', '0', '1', '/', '1', '2', '/', '2', '0', '1', '0', '\\n', '1', '1', ' ', ' ', ' ', ' ', ' ', '0', '1', '/', '0', '1', '/', '2', '0', '1', '1', '\\n', '9', '1', ' ', ' ', ' ', ' ', ' ', '0', '1', '/', '0', '2', '/', '2', '0', '1', '1', '\\n', '1', '1', '1', ' ', ' ', ' ', ' ', '0', '1', '/', '0', '3', '/', '2', '0', '1', '1', '\\n', '3', '1', ' ', ' ', ' ', ' ', ' ', '0', '1', '/', '0', '4', '/', '2', '0', '1', '1', '\\n', '1', '3', '1', ' ', ' ', ' ', ' ', '0', '1', '/', '0', '5', '/', '2', '0', '1', '1', '\\n', '1', '5', '1', ' ', ' ', ' ', ' ', '0', '1', '/', '0', '6', '/', '2', '0', '1', '1', '\\n', '5', '1', ' ', ' ', ' ', ' ', ' ', '0', '1', '/', '0', '7', '/', '2', '0', '1', '1', '\\n', '1', '7', '1', ' ', ' ', ' ', ' ', '0', '1', '/', '0', '8', '/', '2', '0', '1', '1', '\\n', '1', '9', '1', ' ', ' ', ' ', ' ', '0', '1', '/', '0', '9', '/', '2', '0', '1', '1', '\\n', '7', '1', ' ', ' ', ' ', ' ', ' ', '0', '1', '/', '1', '0', '/', '2', '0', '1', '1', '\\n', '2', '1', '1', ' ', ' ', ' ', ' ', '0', '1', '/', '1', '1', '/', '2', '0', '1', '1', '\\n', '2', '3', '1', ' ', ' ', ' ', ' ', '0', '1', '/', '1', '2', '/', '2', '0', '1', '1', '\\n', '1', '2', ' ', ' ', ' ', ' ', ' ', '0', '1', '/', '0', '1', '/', '2', '0', '1', '2', '\\n', '9', '2', ' ', ' ', ' ', ' ', ' ', '0', '1', '/', '0', '2', '/', '2', '0', '1', '2', '\\n', '1', '1', '2', ' ', ' ', ' ', ' ', '0', '1', '/', '0', '3', '/', '2', '0', '1', '2', '\\n', '3', '2', ' ', ' ', ' ', ' ', ' ', '0', '1', '/', '0', '4', '/', '2', '0', '1', '2', '\\n', '1', '3', '2', ' ', ' ', ' ', ' ', '0', '1', '/', '0', '5', '/', '2', '0', '1', '2', '\\n', '1', '5', '2', ' ', ' ', ' ', ' ', '0', '1', '/', '0', '6', '/', '2', '0', '1', '2', '\\n', '5', '2', ' ', ' ', ' ', ' ', ' ', '0', '1', '/', '0', '7', '/', '2', '0', '1', '2', '\\n', '1', '7', '2', ' ', ' ', ' ', ' ', '0', '1', '/', '0', '8', '/', '2', '0', '1', '2', '\\n', '1', '9', '2', ' ', ' ', ' ', ' ', '0', '1', '/', '0', '9', '/', '2', '0', '1', '2', '\\n', '7', '2', ' ', ' ', ' ', ' ', ' ', '0', '1', '/', '1', '0', '/', '2', '0', '1', '2', '\\n', '2', '1', '2', ' ', ' ', ' ', ' ', '0', '1', '/', '1', '1', '/', '2', '0', '1', '2', '\\n', '2', '3', '2', ' ', ' ', ' ', ' ', '0', '1', '/', '1', '2', '/', '2', '0', '1', '2', '\\n', '1', '3', ' ', ' ', ' ', ' ', ' ', '0', '1', '/', '0', '1', '/', '2', '0', '1', '3', '\\n', '9', '3', ' ', ' ', ' ', ' ', ' ', '0', '1', '/', '0', '2', '/', '2', '0', '1', '3', '\\n', '1', '1', '3', ' ', ' ', ' ', ' ', '0', '1', '/', '0', '3', '/', '2', '0', '1', '3', '\\n', '3', '3', ' ', ' ', ' ', ' ', ' ', '0', '1', '/', '0', '4', '/', '2', '0', '1', '3', '\\n', '1', '3', '3', ' ', ' ', ' ', ' ', '0', '1', '/', '0', '5', '/', '2', '0', '1', '3', '\\n', '1', '5', '3', ' ', ' ', ' ', ' ', '0', '1', '/', '0', '6', '/', '2', '0', '1', '3', '\\n', '5', '3', ' ', ' ', ' ', ' ', ' ', '0', '1', '/', '0', '7', '/', '2', '0', '1', '3', '\\n', '1', '7', '3', ' ', ' ', ' ', ' ', '0', '1', '/', '0', '8', '/', '2', '0', '1', '3', '\\n', '1', '9', '3', ' ', ' ', ' ', ' ', '0', '1', '/', '0', '9', '/', '2', '0', '1', '3', '\\n', '7', '3', ' ', ' ', ' ', ' ', ' ', '0', '1', '/', '1', '0', '/', '2', '0', '1', '3', '\\n', '2', '1', '3', ' ', ' ', ' ', ' ', '0', '1', '/', '1', '1', '/', '2', '0', '1', '3', '\\n', '2', '3', '3', ' ', ' ', ' ', ' ', '0', '1', '/', '1', '2', '/', '2', '0', '1', '3', '\\n', '1', '4', ' ', ' ', ' ', ' ', ' ', '0', '1', '/', '0', '1', '/', '2', '0', '1', '4', '\\n', '9', '4', ' ', ' ', ' ', ' ', ' ', '0', '1', '/', '0', '2', '/', '2', '0', '1', '4', '\\n', '1', '1', '4', ' ', ' ', ' ', ' ', '0', '1', '/', '0', '3', '/', '2', '0', '1', '4', '\\n', '3', '4', ' ', ' ', ' ', ' ', ' ', '0', '1', '/', '0', '4', '/', '2', '0', '1', '4', '\\n', '1', '3', '4', ' ', ' ', ' ', ' ', '0', '1', '/', '0', '5', '/', '2', '0', '1', '4', '\\n', '1', '5', '4', ' ', ' ', ' ', ' ', '0', '1', '/', '0', '6', '/', '2', '0', '1', '4', '\\n', '5', '4', ' ', ' ', ' ', ' ', ' ', '0', '1', '/', '0', '7', '/', '2', '0', '1', '4', '\\n', '1', '7', '4', ' ', ' ', ' ', ' ', '0', '1', '/', '0', '8', '/', '2', '0', '1', '4', '\\n', '1', '9', '4', ' ', ' ', ' ', ' ', '0', '1', '/', '0', '9', '/', '2', '0', '1', '4', '\\n', '7', '4', ' ', ' ', ' ', ' ', ' ', '0', '1', '/', '1', '0', '/', '2', '0', '1', '4', '\\n', '2', '1', '4', ' ', ' ', ' ', ' ', '0', '1', '/', '1', '1', '/', '2', '0', '1', '4', '\\n', '2', '3', '4', ' ', ' ', ' ', ' ', '0', '1', '/', '1', '2', '/', '2', '0', '1', '4', '\\n', '1', '5', ' ', ' ', ' ', ' ', ' ', '0', '1', '/', '0', '1', '/', '2', '0', '1', '5', '\\n', '9', '5', ' ', ' ', ' ', ' ', ' ', '0', '1', '/', '0', '2', '/', '2', '0', '1', '5', '\\n', '1', '1', '5', ' ', ' ', ' ', ' ', '0', '1', '/', '0', '3', '/', '2', '0', '1', '5', '\\n', '3', '5', ' ', ' ', ' ', ' ', ' ', '0', '1', '/', '0', '4', '/', '2', '0', '1', '5', '\\n', '1', '3', '5', ' ', ' ', ' ', ' ', '0', '1', '/', '0', '5', '/', '2', '0', '1', '5', '\\n', '1', '5', '5', ' ', ' ', ' ', ' ', '0', '1', '/', '0', '6', '/', '2', '0', '1', '5', '\\n', '5', '5', ' ', ' ', ' ', ' ', ' ', '0', '1', '/', '0', '7', '/', '2', '0', '1', '5', '\\n', '1', '7', '5', ' ', ' ', ' ', ' ', '0', '1', '/', '0', '8', '/', '2', '0', '1', '5', '\\n', '1', '9', '5', ' ', ' ', ' ', ' ', '0', '1', '/', '0', '9', '/', '2', '0', '1', '5', '\\n', '7', '5', ' ', ' ', ' ', ' ', ' ', '0', '1', '/', '1', '0', '/', '2', '0', '1', '5', '\\n', '2', '1', '5', ' ', ' ', ' ', ' ', '0', '1', '/', '1', '1', '/', '2', '0', '1', '5', '\\n', '2', '3', '5', ' ', ' ', ' ', ' ', '0', '1', '/', '1', '2', '/', '2', '0', '1', '5', '\\n', '1', '6', ' ', ' ', ' ', ' ', ' ', '0', '1', '/', '0', '1', '/', '2', '0', '1', '6', '\\n', '9', '6', ' ', ' ', ' ', ' ', ' ', '0', '1', '/', '0', '2', '/', '2', '0', '1', '6', '\\n', '1', '1', '6', ' ', ' ', ' ', ' ', '0', '1', '/', '0', '3', '/', '2', '0', '1', '6', '\\n', '3', '6', ' ', ' ', ' ', ' ', ' ', '0', '1', '/', '0', '4', '/', '2', '0', '1', '6', '\\n', '1', '3', '6', ' ', ' ', ' ', ' ', '0', '1', '/', '0', '5', '/', '2', '0', '1', '6', '\\n', '1', '5', '6', ' ', ' ', ' ', ' ', '0', '1', '/', '0', '6', '/', '2', '0', '1', '6', '\\n', '5', '6', ' ', ' ', ' ', ' ', ' ', '0', '1', '/', '0', '7', '/', '2', '0', '1', '6', '\\n', '1', '7', '6', ' ', ' ', ' ', ' ', '0', '1', '/', '0', '8', '/', '2', '0', '1', '6', '\\n', '1', '9', '6', ' ', ' ', ' ', ' ', '0', '1', '/', '0', '9', '/', '2', '0', '1', '6', '\\n', '7', '6', ' ', ' ', ' ', ' ', ' ', '0', '1', '/', '1', '0', '/', '2', '0', '1', '6', '\\n', '2', '1', '6', ' ', ' ', ' ', ' ', '0', '1', '/', '1', '1', '/', '2', '0', '1', '6', '\\n', '2', '3', '6', ' ', ' ', ' ', ' ', '0', '1', '/', '1', '2', '/', '2', '0', '1', '6', '\\n', '1', '7', ' ', ' ', ' ', ' ', ' ', '0', '1', '/', '0', '1', '/', '2', '0', '1', '7', '\\n', '9', '7', ' ', ' ', ' ', ' ', ' ', '0', '1', '/', '0', '2', '/', '2', '0', '1', '7', '\\n', '1', '1', '7', ' ', ' ', ' ', ' ', '0', '1', '/', '0', '3', '/', '2', '0', '1', '7', '\\n', '3', '7', ' ', ' ', ' ', ' ', ' ', '0', '1', '/', '0', '4', '/', '2', '0', '1', '7', '\\n', '1', '3', '7', ' ', ' ', ' ', ' ', '0', '1', '/', '0', '5', '/', '2', '0', '1', '7', '\\n', '1', '5', '7', ' ', ' ', ' ', ' ', '0', '1', '/', '0', '6', '/', '2', '0', '1', '7', '\\n', '5', '7', ' ', ' ', ' ', ' ', ' ', '0', '1', '/', '0', '7', '/', '2', '0', '1', '7', '\\n', '1', '7', '7', ' ', ' ', ' ', ' ', '0', '1', '/', '0', '8', '/', '2', '0', '1', '7', '\\n', '1', '9', '7', ' ', ' ', ' ', ' ', '0', '1', '/', '0', '9', '/', '2', '0', '1', '7', '\\n', '7', '7', ' ', ' ', ' ', ' ', ' ', '0', '1', '/', '1', '0', '/', '2', '0', '1', '7', '\\n', '2', '1', '7', ' ', ' ', ' ', ' ', '0', '1', '/', '1', '1', '/', '2', '0', '1', '7', '\\n', '2', '3', '7', ' ', ' ', ' ', ' ', '0', '1', '/', '1', '2', '/', '2', '0', '1', '7', '\\n', '1', '8', ' ', ' ', ' ', ' ', ' ', '0', '1', '/', '0', '1', '/', '2', '0', '1', '8', '\\n', '9', '8', ' ', ' ', ' ', ' ', ' ', '0', '1', '/', '0', '2', '/', '2', '0', '1', '8', '\\n', '1', '1', '8', ' ', ' ', ' ', ' ', '0', '1', '/', '0', '3', '/', '2', '0', '1', '8', '\\n', '3', '8', ' ', ' ', ' ', ' ', ' ', '0', '1', '/', '0', '4', '/', '2', '0', '1', '8', '\\n', '1', '3', '8', ' ', ' ', ' ', ' ', '0', '1', '/', '0', '5', '/', '2', '0', '1', '8', '\\n', '1', '5', '8', ' ', ' ', ' ', ' ', '0', '1', '/', '0', '6', '/', '2', '0', '1', '8', '\\n', '5', '8', ' ', ' ', ' ', ' ', ' ', '0', '1', '/', '0', '7', '/', '2', '0', '1', '8', '\\n', '1', '7', '8', ' ', ' ', ' ', ' ', '0', '1', '/', '0', '8', '/', '2', '0', '1', '8', '\\n', '1', '9', '8', ' ', ' ', ' ', ' ', '0', '1', '/', '0', '9', '/', '2', '0', '1', '8', '\\n', '7', '8', ' ', ' ', ' ', ' ', ' ', '0', '1', '/', '1', '0', '/', '2', '0', '1', '8', '\\n', '2', '1', '8', ' ', ' ', ' ', ' ', '0', '1', '/', '1', '1', '/', '2', '0', '1', '8', '\\n', '2', '3', '8', ' ', ' ', ' ', ' ', '0', '1', '/', '1', '2', '/', '2', '0', '1', '8', '\\n', '1', '9', ' ', ' ', ' ', ' ', ' ', '0', '1', '/', '0', '1', '/', '2', '0', '1', '9', '\\n', '9', '9', ' ', ' ', ' ', ' ', ' ', '0', '1', '/', '0', '2', '/', '2', '0', '1', '9', '\\n', '1', '1', '9', ' ', ' ', ' ', ' ', '0', '1', '/', '0', '3', '/', '2', '0', '1', '9', '\\n', '3', '9', ' ', ' ', ' ', ' ', ' ', '0', '1', '/', '0', '4', '/', '2', '0', '1', '9', '\\n', '1', '3', '9', ' ', ' ', ' ', ' ', '0', '1', '/', '0', '5', '/', '2', '0', '1', '9', '\\n', '1', '5', '9', ' ', ' ', ' ', ' ', '0', '1', '/', '0', '6', '/', '2', '0', '1', '9', '\\n', '5', '9', ' ', ' ', ' ', ' ', ' ', '0', '1', '/', '0', '7', '/', '2', '0', '1', '9', '\\n', '1', '7', '9', ' ', ' ', ' ', ' ', '0', '1', '/', '0', '8', '/', '2', '0', '1', '9', '\\n', '1', '9', '9', ' ', ' ', ' ', ' ', '0', '1', '/', '0', '9', '/', '2', '0', '1', '9', '\\n', '7', '9', ' ', ' ', ' ', ' ', ' ', '0', '1', '/', '1', '0', '/', '2', '0', '1', '9', '\\n', '2', '1', '9', ' ', ' ', ' ', ' ', '0', '1', '/', '1', '1', '/', '2', '0', '1', '9', '\\n', '2', '3', '9', ' ', ' ', ' ', ' ', '0', '1', '/', '1', '2', '/', '2', '0', '1', '9']\n"
          ],
          "name": "stdout"
        },
        {
          "output_type": "display_data",
          "data": {
            "text/html": [
              "<html>\n",
              "<head><meta charset=\"utf-8\" /></head>\n",
              "<body>\n",
              "    <div>\n",
              "            <script src=\"https://cdnjs.cloudflare.com/ajax/libs/mathjax/2.7.5/MathJax.js?config=TeX-AMS-MML_SVG\"></script><script type=\"text/javascript\">if (window.MathJax) {MathJax.Hub.Config({SVG: {font: \"STIX-Web\"}});}</script>\n",
              "                <script type=\"text/javascript\">window.PlotlyConfig = {MathJaxConfig: 'local'};</script>\n",
              "        <script src=\"https://cdn.plot.ly/plotly-latest.min.js\"></script>    \n",
              "            <div id=\"c32cd725-9538-458c-9026-7567ad78d7e1\" class=\"plotly-graph-div\" style=\"height:525px; width:100%;\"></div>\n",
              "            <script type=\"text/javascript\">\n",
              "                \n",
              "                    window.PLOTLYENV=window.PLOTLYENV || {};\n",
              "                    \n",
              "                if (document.getElementById(\"c32cd725-9538-458c-9026-7567ad78d7e1\")) {\n",
              "                    Plotly.newPlot(\n",
              "                        'c32cd725-9538-458c-9026-7567ad78d7e1',\n",
              "                        [{\"marker\": {\"color\": [5, 5, 5, 5, 5, 5, 5, 5, 5, 5, 5, 5, 0, 5, 5, 5, 5, 5, 5, 5, 5, 5, 5, 5, 0, 5, 5, 5, 5, 5, 1, 1, 1, 1, 1, 1, 1, 1, 1, 1, 1, 1, 1, 1, 1, 1, 1, 1, 1, 5, 5, 5, 5, 5, 5, 5, 5, 5, 5, 5, 5, 5, 5, 5, 5, 5, 5, 5, 5, 5, 5, 5, 3, 6, 6, 6, 6, 5, 6, 6, 6, 6, 6, 6, 3, 6, 6, 6, 6, 6, 6, 6, 6, 6, 6, 6, 7, 5, 5, 5, 7, 5, 5, 5, 5, 5, 1, 1, 4, 1, 1, 5, 5, 5, 5, 5, 5, 5, 5, 5, 4, 5, 5, 5, 5, 5, 5, 5, 5, 5, 5, 5, 4, 5, 5, 5, 5, 5, 5, 1, 1, 1, 1, 1, 4, 5, 5, 1, 1, 1, 1, 5, 5, 5, 5, 5, 5, 5, 5, 5, 5, 5, 5, 5, 5, 5, 5, 5, 5, 5, 5, 5, 5, 5, 5, 5, 5, 5, 5, 5, 2, 2, 2, 2, 2, 2, 2, 2, 5, 2, 2, 2, 2, 5, 5, 5, 5, 5, 5, 5, 5, 5, 5, 2, 2, 2, 2, 2, 2, 2, 2, 2, 2, 2, 2, 2, 8, 2, 2, 2, 8, 8, 8, 8, 8, 8, 2, 2, 2, 2, 2, 2, 2, 5, 5, 5, 5, 5, 5, 5]}, \"mode\": \"markers\", \"text\": [\"2000-01-01T00:00:00\", \"2000-01-02T00:00:00\", \"2000-01-03T00:00:00\", \"2000-01-04T00:00:00\", \"2000-01-05T00:00:00\", \"2000-01-06T00:00:00\", \"2000-01-07T00:00:00\", \"2000-01-08T00:00:00\", \"2000-01-09T00:00:00\", \"2000-01-10T00:00:00\", \"2000-01-11T00:00:00\", \"2000-01-12T00:00:00\", \"2001-01-01T00:00:00\", \"2001-01-02T00:00:00\", \"2001-01-03T00:00:00\", \"2001-01-04T00:00:00\", \"2001-01-05T00:00:00\", \"2001-01-06T00:00:00\", \"2001-01-07T00:00:00\", \"2001-01-08T00:00:00\", \"2001-01-09T00:00:00\", \"2001-01-10T00:00:00\", \"2001-01-11T00:00:00\", \"2001-01-12T00:00:00\", \"2002-01-01T00:00:00\", \"2002-01-02T00:00:00\", \"2002-01-03T00:00:00\", \"2002-01-04T00:00:00\", \"2002-01-05T00:00:00\", \"2002-01-06T00:00:00\", \"2002-01-07T00:00:00\", \"2002-01-08T00:00:00\", \"2002-01-09T00:00:00\", \"2002-01-10T00:00:00\", \"2002-01-11T00:00:00\", \"2002-01-12T00:00:00\", \"2003-01-01T00:00:00\", \"2003-01-02T00:00:00\", \"2003-01-03T00:00:00\", \"2003-01-04T00:00:00\", \"2003-01-05T00:00:00\", \"2003-01-06T00:00:00\", \"2003-01-07T00:00:00\", \"2003-01-08T00:00:00\", \"2003-01-09T00:00:00\", \"2003-01-10T00:00:00\", \"2003-01-11T00:00:00\", \"2003-01-12T00:00:00\", \"2004-01-01T00:00:00\", \"2004-01-02T00:00:00\", \"2004-01-03T00:00:00\", \"2004-01-04T00:00:00\", \"2004-01-05T00:00:00\", \"2004-01-06T00:00:00\", \"2004-01-07T00:00:00\", \"2004-01-08T00:00:00\", \"2004-01-09T00:00:00\", \"2004-01-10T00:00:00\", \"2004-01-11T00:00:00\", \"2004-01-12T00:00:00\", \"2005-01-01T00:00:00\", \"2005-01-02T00:00:00\", \"2005-01-03T00:00:00\", \"2005-01-04T00:00:00\", \"2005-01-05T00:00:00\", \"2005-01-06T00:00:00\", \"2005-01-07T00:00:00\", \"2005-01-08T00:00:00\", \"2005-01-09T00:00:00\", \"2005-01-10T00:00:00\", \"2005-01-11T00:00:00\", \"2005-01-12T00:00:00\", \"2006-01-01T00:00:00\", \"2006-01-02T00:00:00\", \"2006-01-03T00:00:00\", \"2006-01-04T00:00:00\", \"2006-01-05T00:00:00\", \"2006-01-06T00:00:00\", \"2006-01-07T00:00:00\", \"2006-01-08T00:00:00\", \"2006-01-09T00:00:00\", \"2006-01-10T00:00:00\", \"2006-01-11T00:00:00\", \"2006-01-12T00:00:00\", \"2007-01-01T00:00:00\", \"2007-01-02T00:00:00\", \"2007-01-03T00:00:00\", \"2007-01-04T00:00:00\", \"2007-01-05T00:00:00\", \"2007-01-06T00:00:00\", \"2007-01-07T00:00:00\", \"2007-01-08T00:00:00\", \"2007-01-09T00:00:00\", \"2007-01-10T00:00:00\", \"2007-01-11T00:00:00\", \"2007-01-12T00:00:00\", \"2008-01-01T00:00:00\", \"2008-01-02T00:00:00\", \"2008-01-03T00:00:00\", \"2008-01-04T00:00:00\", \"2008-01-05T00:00:00\", \"2008-01-06T00:00:00\", \"2008-01-07T00:00:00\", \"2008-01-08T00:00:00\", \"2008-01-09T00:00:00\", \"2008-01-10T00:00:00\", \"2008-01-11T00:00:00\", \"2008-01-12T00:00:00\", \"2009-01-01T00:00:00\", \"2009-01-02T00:00:00\", \"2009-01-03T00:00:00\", \"2009-01-04T00:00:00\", \"2009-01-05T00:00:00\", \"2009-01-06T00:00:00\", \"2009-01-07T00:00:00\", \"2009-01-08T00:00:00\", \"2009-01-09T00:00:00\", \"2009-01-10T00:00:00\", \"2009-01-11T00:00:00\", \"2009-01-12T00:00:00\", \"2010-01-01T00:00:00\", \"2010-01-02T00:00:00\", \"2010-01-03T00:00:00\", \"2010-01-04T00:00:00\", \"2010-01-05T00:00:00\", \"2010-01-06T00:00:00\", \"2010-01-07T00:00:00\", \"2010-01-08T00:00:00\", \"2010-01-09T00:00:00\", \"2010-01-10T00:00:00\", \"2010-01-11T00:00:00\", \"2010-01-12T00:00:00\", \"2011-01-01T00:00:00\", \"2011-01-02T00:00:00\", \"2011-01-03T00:00:00\", \"2011-01-04T00:00:00\", \"2011-01-05T00:00:00\", \"2011-01-06T00:00:00\", \"2011-01-07T00:00:00\", \"2011-01-08T00:00:00\", \"2011-01-09T00:00:00\", \"2011-01-10T00:00:00\", \"2011-01-11T00:00:00\", \"2011-01-12T00:00:00\", \"2012-01-01T00:00:00\", \"2012-01-02T00:00:00\", \"2012-01-03T00:00:00\", \"2012-01-04T00:00:00\", \"2012-01-05T00:00:00\", \"2012-01-06T00:00:00\", \"2012-01-07T00:00:00\", \"2012-01-08T00:00:00\", \"2012-01-09T00:00:00\", \"2012-01-10T00:00:00\", \"2012-01-11T00:00:00\", \"2012-01-12T00:00:00\", \"2013-01-01T00:00:00\", \"2013-01-02T00:00:00\", \"2013-01-03T00:00:00\", \"2013-01-04T00:00:00\", \"2013-01-05T00:00:00\", \"2013-01-06T00:00:00\", \"2013-01-07T00:00:00\", \"2013-01-08T00:00:00\", \"2013-01-09T00:00:00\", \"2013-01-10T00:00:00\", \"2013-01-11T00:00:00\", \"2013-01-12T00:00:00\", \"2014-01-01T00:00:00\", \"2014-01-02T00:00:00\", \"2014-01-03T00:00:00\", \"2014-01-04T00:00:00\", \"2014-01-05T00:00:00\", \"2014-01-06T00:00:00\", \"2014-01-07T00:00:00\", \"2014-01-08T00:00:00\", \"2014-01-09T00:00:00\", \"2014-01-10T00:00:00\", \"2014-01-11T00:00:00\", \"2014-01-12T00:00:00\", \"2015-01-01T00:00:00\", \"2015-01-02T00:00:00\", \"2015-01-03T00:00:00\", \"2015-01-04T00:00:00\", \"2015-01-05T00:00:00\", \"2015-01-06T00:00:00\", \"2015-01-07T00:00:00\", \"2015-01-08T00:00:00\", \"2015-01-09T00:00:00\", \"2015-01-10T00:00:00\", \"2015-01-11T00:00:00\", \"2015-01-12T00:00:00\", \"2016-01-01T00:00:00\", \"2016-01-02T00:00:00\", \"2016-01-03T00:00:00\", \"2016-01-04T00:00:00\", \"2016-01-05T00:00:00\", \"2016-01-06T00:00:00\", \"2016-01-07T00:00:00\", \"2016-01-08T00:00:00\", \"2016-01-09T00:00:00\", \"2016-01-10T00:00:00\", \"2016-01-11T00:00:00\", \"2016-01-12T00:00:00\", \"2017-01-01T00:00:00\", \"2017-01-02T00:00:00\", \"2017-01-03T00:00:00\", \"2017-01-04T00:00:00\", \"2017-01-05T00:00:00\", \"2017-01-06T00:00:00\", \"2017-01-07T00:00:00\", \"2017-01-08T00:00:00\", \"2017-01-09T00:00:00\", \"2017-01-10T00:00:00\", \"2017-01-11T00:00:00\", \"2017-01-12T00:00:00\", \"2018-01-01T00:00:00\", \"2018-01-02T00:00:00\", \"2018-01-03T00:00:00\", \"2018-01-04T00:00:00\", \"2018-01-05T00:00:00\", \"2018-01-06T00:00:00\", \"2018-01-07T00:00:00\", \"2018-01-08T00:00:00\", \"2018-01-09T00:00:00\", \"2018-01-10T00:00:00\", \"2018-01-11T00:00:00\", \"2018-01-12T00:00:00\", \"2019-01-01T00:00:00\", \"2019-01-02T00:00:00\", \"2019-01-03T00:00:00\", \"2019-01-04T00:00:00\", \"2019-01-05T00:00:00\", \"2019-01-06T00:00:00\", \"2019-01-07T00:00:00\", \"2019-01-08T00:00:00\", \"2019-01-09T00:00:00\", \"2019-01-10T00:00:00\", \"2019-01-11T00:00:00\", \"2019-01-12T00:00:00\"], \"type\": \"scatter\", \"x\": [\"01/01/2000\", \"01/02/2000\", \"01/03/2000\", \"01/04/2000\", \"01/05/2000\", \"01/06/2000\", \"01/07/2000\", \"01/08/2000\", \"01/09/2000\", \"01/10/2000\", \"01/11/2000\", \"01/12/2000\", \"01/01/2001\", \"01/02/2001\", \"01/03/2001\", \"01/04/2001\", \"01/05/2001\", \"01/06/2001\", \"01/07/2001\", \"01/08/2001\", \"01/09/2001\", \"01/10/2001\", \"01/11/2001\", \"01/12/2001\", \"01/01/2002\", \"01/02/2002\", \"01/03/2002\", \"01/04/2002\", \"01/05/2002\", \"01/06/2002\", \"01/07/2002\", \"01/08/2002\", \"01/09/2002\", \"01/10/2002\", \"01/11/2002\", \"01/12/2002\", \"01/01/2003\", \"01/02/2003\", \"01/03/2003\", \"01/04/2003\", \"01/05/2003\", \"01/06/2003\", \"01/07/2003\", \"01/08/2003\", \"01/09/2003\", \"01/10/2003\", \"01/11/2003\", \"01/12/2003\", \"01/01/2004\", \"01/02/2004\", \"01/03/2004\", \"01/04/2004\", \"01/05/2004\", \"01/06/2004\", \"01/07/2004\", \"01/08/2004\", \"01/09/2004\", \"01/10/2004\", \"01/11/2004\", \"01/12/2004\", \"01/01/2005\", \"01/02/2005\", \"01/03/2005\", \"01/04/2005\", \"01/05/2005\", \"01/06/2005\", \"01/07/2005\", \"01/08/2005\", \"01/09/2005\", \"01/10/2005\", \"01/11/2005\", \"01/12/2005\", \"01/01/2006\", \"01/02/2006\", \"01/03/2006\", \"01/04/2006\", \"01/05/2006\", \"01/06/2006\", \"01/07/2006\", \"01/08/2006\", \"01/09/2006\", \"01/10/2006\", \"01/11/2006\", \"01/12/2006\", \"01/01/2007\", \"01/02/2007\", \"01/03/2007\", \"01/04/2007\", \"01/05/2007\", \"01/06/2007\", \"01/07/2007\", \"01/08/2007\", \"01/09/2007\", \"01/10/2007\", \"01/11/2007\", \"01/12/2007\", \"01/01/2008\", \"01/02/2008\", \"01/03/2008\", \"01/04/2008\", \"01/05/2008\", \"01/06/2008\", \"01/07/2008\", \"01/08/2008\", \"01/09/2008\", \"01/10/2008\", \"01/11/2008\", \"01/12/2008\", \"01/01/2009\", \"01/02/2009\", \"01/03/2009\", \"01/04/2009\", \"01/05/2009\", \"01/06/2009\", \"01/07/2009\", \"01/08/2009\", \"01/09/2009\", \"01/10/2009\", \"01/11/2009\", \"01/12/2009\", \"01/01/2010\", \"01/02/2010\", \"01/03/2010\", \"01/04/2010\", \"01/05/2010\", \"01/06/2010\", \"01/07/2010\", \"01/08/2010\", \"01/09/2010\", \"01/10/2010\", \"01/11/2010\", \"01/12/2010\", \"01/01/2011\", \"01/02/2011\", \"01/03/2011\", \"01/04/2011\", \"01/05/2011\", \"01/06/2011\", \"01/07/2011\", \"01/08/2011\", \"01/09/2011\", \"01/10/2011\", \"01/11/2011\", \"01/12/2011\", \"01/01/2012\", \"01/02/2012\", \"01/03/2012\", \"01/04/2012\", \"01/05/2012\", \"01/06/2012\", \"01/07/2012\", \"01/08/2012\", \"01/09/2012\", \"01/10/2012\", \"01/11/2012\", \"01/12/2012\", \"01/01/2013\", \"01/02/2013\", \"01/03/2013\", \"01/04/2013\", \"01/05/2013\", \"01/06/2013\", \"01/07/2013\", \"01/08/2013\", \"01/09/2013\", \"01/10/2013\", \"01/11/2013\", \"01/12/2013\", \"01/01/2014\", \"01/02/2014\", \"01/03/2014\", \"01/04/2014\", \"01/05/2014\", \"01/06/2014\", \"01/07/2014\", \"01/08/2014\", \"01/09/2014\", \"01/10/2014\", \"01/11/2014\", \"01/12/2014\", \"01/01/2015\", \"01/02/2015\", \"01/03/2015\", \"01/04/2015\", \"01/05/2015\", \"01/06/2015\", \"01/07/2015\", \"01/08/2015\", \"01/09/2015\", \"01/10/2015\", \"01/11/2015\", \"01/12/2015\", \"01/01/2016\", \"01/02/2016\", \"01/03/2016\", \"01/04/2016\", \"01/05/2016\", \"01/06/2016\", \"01/07/2016\", \"01/08/2016\", \"01/09/2016\", \"01/10/2016\", \"01/11/2016\", \"01/12/2016\", \"01/01/2017\", \"01/02/2017\", \"01/03/2017\", \"01/04/2017\", \"01/05/2017\", \"01/06/2017\", \"01/07/2017\", \"01/08/2017\", \"01/09/2017\", \"01/10/2017\", \"01/11/2017\", \"01/12/2017\", \"01/01/2018\", \"01/02/2018\", \"01/03/2018\", \"01/04/2018\", \"01/05/2018\", \"01/06/2018\", \"01/07/2018\", \"01/08/2018\", \"01/09/2018\", \"01/10/2018\", \"01/11/2018\", \"01/12/2018\", \"01/01/2019\", \"01/02/2019\", \"01/03/2019\", \"01/04/2019\", \"01/05/2019\", \"01/06/2019\", \"01/07/2019\", \"01/08/2019\", \"01/09/2019\", \"01/10/2019\", \"01/11/2019\", \"01/12/2019\"], \"y\": [5, 5, 5, 5, 5, 5, 5, 5, 5, 5, 5, 5, 0, 5, 5, 5, 5, 5, 5, 5, 5, 5, 5, 5, 0, 5, 5, 5, 5, 5, 1, 1, 1, 1, 1, 1, 1, 1, 1, 1, 1, 1, 1, 1, 1, 1, 1, 1, 1, 5, 5, 5, 5, 5, 5, 5, 5, 5, 5, 5, 5, 5, 5, 5, 5, 5, 5, 5, 5, 5, 5, 5, 3, 6, 6, 6, 6, 5, 6, 6, 6, 6, 6, 6, 3, 6, 6, 6, 6, 6, 6, 6, 6, 6, 6, 6, 7, 5, 5, 5, 7, 5, 5, 5, 5, 5, 1, 1, 4, 1, 1, 5, 5, 5, 5, 5, 5, 5, 5, 5, 4, 5, 5, 5, 5, 5, 5, 5, 5, 5, 5, 5, 4, 5, 5, 5, 5, 5, 5, 1, 1, 1, 1, 1, 4, 5, 5, 1, 1, 1, 1, 5, 5, 5, 5, 5, 5, 5, 5, 5, 5, 5, 5, 5, 5, 5, 5, 5, 5, 5, 5, 5, 5, 5, 5, 5, 5, 5, 5, 5, 2, 2, 2, 2, 2, 2, 2, 2, 5, 2, 2, 2, 2, 5, 5, 5, 5, 5, 5, 5, 5, 5, 5, 2, 2, 2, 2, 2, 2, 2, 2, 2, 2, 2, 2, 2, 8, 2, 2, 2, 8, 8, 8, 8, 8, 8, 2, 2, 2, 2, 2, 2, 2, 5, 5, 5, 5, 5, 5, 5]}],\n",
              "                        {\"template\": {\"data\": {\"bar\": [{\"error_x\": {\"color\": \"#2a3f5f\"}, \"error_y\": {\"color\": \"#2a3f5f\"}, \"marker\": {\"line\": {\"color\": \"#E5ECF6\", \"width\": 0.5}}, \"type\": \"bar\"}], \"barpolar\": [{\"marker\": {\"line\": {\"color\": \"#E5ECF6\", \"width\": 0.5}}, \"type\": \"barpolar\"}], \"carpet\": [{\"aaxis\": {\"endlinecolor\": \"#2a3f5f\", \"gridcolor\": \"white\", \"linecolor\": \"white\", \"minorgridcolor\": \"white\", \"startlinecolor\": \"#2a3f5f\"}, \"baxis\": {\"endlinecolor\": \"#2a3f5f\", \"gridcolor\": \"white\", \"linecolor\": \"white\", \"minorgridcolor\": \"white\", \"startlinecolor\": \"#2a3f5f\"}, \"type\": \"carpet\"}], \"choropleth\": [{\"colorbar\": {\"outlinewidth\": 0, \"ticks\": \"\"}, \"type\": \"choropleth\"}], \"contour\": [{\"colorbar\": {\"outlinewidth\": 0, \"ticks\": \"\"}, \"colorscale\": [[0.0, \"#0d0887\"], [0.1111111111111111, \"#46039f\"], [0.2222222222222222, \"#7201a8\"], [0.3333333333333333, \"#9c179e\"], [0.4444444444444444, \"#bd3786\"], [0.5555555555555556, \"#d8576b\"], [0.6666666666666666, \"#ed7953\"], [0.7777777777777778, \"#fb9f3a\"], [0.8888888888888888, \"#fdca26\"], [1.0, \"#f0f921\"]], \"type\": \"contour\"}], \"contourcarpet\": [{\"colorbar\": {\"outlinewidth\": 0, \"ticks\": \"\"}, \"type\": \"contourcarpet\"}], \"heatmap\": [{\"colorbar\": {\"outlinewidth\": 0, \"ticks\": \"\"}, \"colorscale\": [[0.0, \"#0d0887\"], [0.1111111111111111, \"#46039f\"], [0.2222222222222222, \"#7201a8\"], [0.3333333333333333, \"#9c179e\"], [0.4444444444444444, \"#bd3786\"], [0.5555555555555556, \"#d8576b\"], [0.6666666666666666, \"#ed7953\"], [0.7777777777777778, \"#fb9f3a\"], [0.8888888888888888, \"#fdca26\"], [1.0, \"#f0f921\"]], \"type\": \"heatmap\"}], \"heatmapgl\": [{\"colorbar\": {\"outlinewidth\": 0, \"ticks\": \"\"}, \"colorscale\": [[0.0, \"#0d0887\"], [0.1111111111111111, \"#46039f\"], [0.2222222222222222, \"#7201a8\"], [0.3333333333333333, \"#9c179e\"], [0.4444444444444444, \"#bd3786\"], [0.5555555555555556, \"#d8576b\"], [0.6666666666666666, \"#ed7953\"], [0.7777777777777778, \"#fb9f3a\"], [0.8888888888888888, \"#fdca26\"], [1.0, \"#f0f921\"]], \"type\": \"heatmapgl\"}], \"histogram\": [{\"marker\": {\"colorbar\": {\"outlinewidth\": 0, \"ticks\": \"\"}}, \"type\": \"histogram\"}], \"histogram2d\": [{\"colorbar\": {\"outlinewidth\": 0, \"ticks\": \"\"}, \"colorscale\": [[0.0, \"#0d0887\"], [0.1111111111111111, \"#46039f\"], [0.2222222222222222, \"#7201a8\"], [0.3333333333333333, \"#9c179e\"], [0.4444444444444444, \"#bd3786\"], [0.5555555555555556, \"#d8576b\"], [0.6666666666666666, \"#ed7953\"], [0.7777777777777778, \"#fb9f3a\"], [0.8888888888888888, \"#fdca26\"], [1.0, \"#f0f921\"]], \"type\": \"histogram2d\"}], \"histogram2dcontour\": [{\"colorbar\": {\"outlinewidth\": 0, \"ticks\": \"\"}, \"colorscale\": [[0.0, \"#0d0887\"], [0.1111111111111111, \"#46039f\"], [0.2222222222222222, \"#7201a8\"], [0.3333333333333333, \"#9c179e\"], [0.4444444444444444, \"#bd3786\"], [0.5555555555555556, \"#d8576b\"], [0.6666666666666666, \"#ed7953\"], [0.7777777777777778, \"#fb9f3a\"], [0.8888888888888888, \"#fdca26\"], [1.0, \"#f0f921\"]], \"type\": \"histogram2dcontour\"}], \"mesh3d\": [{\"colorbar\": {\"outlinewidth\": 0, \"ticks\": \"\"}, \"type\": \"mesh3d\"}], \"parcoords\": [{\"line\": {\"colorbar\": {\"outlinewidth\": 0, \"ticks\": \"\"}}, \"type\": \"parcoords\"}], \"pie\": [{\"automargin\": true, \"type\": \"pie\"}], \"scatter\": [{\"marker\": {\"colorbar\": {\"outlinewidth\": 0, \"ticks\": \"\"}}, \"type\": \"scatter\"}], \"scatter3d\": [{\"line\": {\"colorbar\": {\"outlinewidth\": 0, \"ticks\": \"\"}}, \"marker\": {\"colorbar\": {\"outlinewidth\": 0, \"ticks\": \"\"}}, \"type\": \"scatter3d\"}], \"scattercarpet\": [{\"marker\": {\"colorbar\": {\"outlinewidth\": 0, \"ticks\": \"\"}}, \"type\": \"scattercarpet\"}], \"scattergeo\": [{\"marker\": {\"colorbar\": {\"outlinewidth\": 0, \"ticks\": \"\"}}, \"type\": \"scattergeo\"}], \"scattergl\": [{\"marker\": {\"colorbar\": {\"outlinewidth\": 0, \"ticks\": \"\"}}, \"type\": \"scattergl\"}], \"scattermapbox\": [{\"marker\": {\"colorbar\": {\"outlinewidth\": 0, \"ticks\": \"\"}}, \"type\": \"scattermapbox\"}], \"scatterpolar\": [{\"marker\": {\"colorbar\": {\"outlinewidth\": 0, \"ticks\": \"\"}}, \"type\": \"scatterpolar\"}], \"scatterpolargl\": [{\"marker\": {\"colorbar\": {\"outlinewidth\": 0, \"ticks\": \"\"}}, \"type\": \"scatterpolargl\"}], \"scatterternary\": [{\"marker\": {\"colorbar\": {\"outlinewidth\": 0, \"ticks\": \"\"}}, \"type\": \"scatterternary\"}], \"surface\": [{\"colorbar\": {\"outlinewidth\": 0, \"ticks\": \"\"}, \"colorscale\": [[0.0, \"#0d0887\"], [0.1111111111111111, \"#46039f\"], [0.2222222222222222, \"#7201a8\"], [0.3333333333333333, \"#9c179e\"], [0.4444444444444444, \"#bd3786\"], [0.5555555555555556, \"#d8576b\"], [0.6666666666666666, \"#ed7953\"], [0.7777777777777778, \"#fb9f3a\"], [0.8888888888888888, \"#fdca26\"], [1.0, \"#f0f921\"]], \"type\": \"surface\"}], \"table\": [{\"cells\": {\"fill\": {\"color\": \"#EBF0F8\"}, \"line\": {\"color\": \"white\"}}, \"header\": {\"fill\": {\"color\": \"#C8D4E3\"}, \"line\": {\"color\": \"white\"}}, \"type\": \"table\"}]}, \"layout\": {\"annotationdefaults\": {\"arrowcolor\": \"#2a3f5f\", \"arrowhead\": 0, \"arrowwidth\": 1}, \"coloraxis\": {\"colorbar\": {\"outlinewidth\": 0, \"ticks\": \"\"}}, \"colorscale\": {\"diverging\": [[0, \"#8e0152\"], [0.1, \"#c51b7d\"], [0.2, \"#de77ae\"], [0.3, \"#f1b6da\"], [0.4, \"#fde0ef\"], [0.5, \"#f7f7f7\"], [0.6, \"#e6f5d0\"], [0.7, \"#b8e186\"], [0.8, \"#7fbc41\"], [0.9, \"#4d9221\"], [1, \"#276419\"]], \"sequential\": [[0.0, \"#0d0887\"], [0.1111111111111111, \"#46039f\"], [0.2222222222222222, \"#7201a8\"], [0.3333333333333333, \"#9c179e\"], [0.4444444444444444, \"#bd3786\"], [0.5555555555555556, \"#d8576b\"], [0.6666666666666666, \"#ed7953\"], [0.7777777777777778, \"#fb9f3a\"], [0.8888888888888888, \"#fdca26\"], [1.0, \"#f0f921\"]], \"sequentialminus\": [[0.0, \"#0d0887\"], [0.1111111111111111, \"#46039f\"], [0.2222222222222222, \"#7201a8\"], [0.3333333333333333, \"#9c179e\"], [0.4444444444444444, \"#bd3786\"], [0.5555555555555556, \"#d8576b\"], [0.6666666666666666, \"#ed7953\"], [0.7777777777777778, \"#fb9f3a\"], [0.8888888888888888, \"#fdca26\"], [1.0, \"#f0f921\"]]}, \"colorway\": [\"#636efa\", \"#EF553B\", \"#00cc96\", \"#ab63fa\", \"#FFA15A\", \"#19d3f3\", \"#FF6692\", \"#B6E880\", \"#FF97FF\", \"#FECB52\"], \"font\": {\"color\": \"#2a3f5f\"}, \"geo\": {\"bgcolor\": \"white\", \"lakecolor\": \"white\", \"landcolor\": \"#E5ECF6\", \"showlakes\": true, \"showland\": true, \"subunitcolor\": \"white\"}, \"hoverlabel\": {\"align\": \"left\"}, \"hovermode\": \"closest\", \"mapbox\": {\"style\": \"light\"}, \"paper_bgcolor\": \"white\", \"plot_bgcolor\": \"#E5ECF6\", \"polar\": {\"angularaxis\": {\"gridcolor\": \"white\", \"linecolor\": \"white\", \"ticks\": \"\"}, \"bgcolor\": \"#E5ECF6\", \"radialaxis\": {\"gridcolor\": \"white\", \"linecolor\": \"white\", \"ticks\": \"\"}}, \"scene\": {\"xaxis\": {\"backgroundcolor\": \"#E5ECF6\", \"gridcolor\": \"white\", \"gridwidth\": 2, \"linecolor\": \"white\", \"showbackground\": true, \"ticks\": \"\", \"zerolinecolor\": \"white\"}, \"yaxis\": {\"backgroundcolor\": \"#E5ECF6\", \"gridcolor\": \"white\", \"gridwidth\": 2, \"linecolor\": \"white\", \"showbackground\": true, \"ticks\": \"\", \"zerolinecolor\": \"white\"}, \"zaxis\": {\"backgroundcolor\": \"#E5ECF6\", \"gridcolor\": \"white\", \"gridwidth\": 2, \"linecolor\": \"white\", \"showbackground\": true, \"ticks\": \"\", \"zerolinecolor\": \"white\"}}, \"shapedefaults\": {\"line\": {\"color\": \"#2a3f5f\"}}, \"ternary\": {\"aaxis\": {\"gridcolor\": \"white\", \"linecolor\": \"white\", \"ticks\": \"\"}, \"baxis\": {\"gridcolor\": \"white\", \"linecolor\": \"white\", \"ticks\": \"\"}, \"bgcolor\": \"#E5ECF6\", \"caxis\": {\"gridcolor\": \"white\", \"linecolor\": \"white\", \"ticks\": \"\"}}, \"title\": {\"x\": 0.05}, \"xaxis\": {\"automargin\": true, \"gridcolor\": \"white\", \"linecolor\": \"white\", \"ticks\": \"\", \"title\": {\"standoff\": 15}, \"zerolinecolor\": \"white\", \"zerolinewidth\": 2}, \"yaxis\": {\"automargin\": true, \"gridcolor\": \"white\", \"linecolor\": \"white\", \"ticks\": \"\", \"title\": {\"standoff\": 15}, \"zerolinecolor\": \"white\", \"zerolinewidth\": 2}}}, \"title\": {\"text\": \"Cluster dans le temps\"}},\n",
              "                        {\"responsive\": true}\n",
              "                    ).then(function(){\n",
              "                            \n",
              "var gd = document.getElementById('c32cd725-9538-458c-9026-7567ad78d7e1');\n",
              "var x = new MutationObserver(function (mutations, observer) {{\n",
              "        var display = window.getComputedStyle(gd).display;\n",
              "        if (!display || display === 'none') {{\n",
              "            console.log([gd, 'removed!']);\n",
              "            Plotly.purge(gd);\n",
              "            observer.disconnect();\n",
              "        }}\n",
              "}});\n",
              "\n",
              "// Listen for the removal of the full notebook cells\n",
              "var notebookContainer = gd.closest('#notebook-container');\n",
              "if (notebookContainer) {{\n",
              "    x.observe(notebookContainer, {childList: true});\n",
              "}}\n",
              "\n",
              "// Listen for the clearing of the current output cell\n",
              "var outputEl = gd.closest('.output');\n",
              "if (outputEl) {{\n",
              "    x.observe(outputEl, {childList: true});\n",
              "}}\n",
              "\n",
              "                        })\n",
              "                };\n",
              "                \n",
              "            </script>\n",
              "        </div>\n",
              "</body>\n",
              "</html>"
            ]
          },
          "metadata": {
            "tags": []
          }
        }
      ]
    },
    {
      "cell_type": "code",
      "metadata": {
        "id": "Ji8_fur-Ik38",
        "colab_type": "code",
        "outputId": "2e1dc741-db89-49bf-b540-7aa8d7920bca",
        "colab": {
          "base_uri": "https://localhost:8080/",
          "height": 438
        }
      },
      "source": [
        "\n",
        "print(df.columns)\n",
        "import seaborn as sns\n",
        "bplot = sns.boxplot(y='actifs bancaires consolidés', x='cluster', \n",
        "                 data=df, \n",
        "                 width=0.5,\n",
        "                 palette=\"colorblind\")\n",
        "\n",
        "\n"
      ],
      "execution_count": 0,
      "outputs": [
        {
          "output_type": "stream",
          "text": [
            "Index(['crédits/dépôts', 'cours/valeur banques',\n",
            "       'rentabilité capitaux propres', 'rentabilité actifs',\n",
            "       'actifs bancaires consolidés', 'actifs des GSIB', 'inflation',\n",
            "       'Balance budgétaire Fr', 'Solde des transactions courantes Fr',\n",
            "       'CAC total return index', 'Eurostoxx total return index', 'CAC index',\n",
            "       'Eurostoxx Index', 'CAC financier', 'CAC biens consommation',\n",
            "       'CAC pétrole/gaz', 'Levier bancaire', 'cluster', 'date'],\n",
            "      dtype='object')\n"
          ],
          "name": "stdout"
        },
        {
          "output_type": "display_data",
          "data": {
            "image/png": "[encoded data removed]",
            "text/plain": [
              "<Figure size 432x288 with 1 Axes>"
            ]
          },
          "metadata": {
            "tags": [],
            "needs_background": "light"
          }
        }
      ]
    },
    {
      "cell_type": "code",
      "metadata": {
        "id": "JId2iHWFTWd8",
        "colab_type": "code",
        "outputId": "2c92e569-151e-4d13-e9e6-8b526937afba",
        "colab": {
          "base_uri": "https://localhost:8080/",
          "height": 427
        }
      },
      "source": [
        "print(df.columns)\n",
        "import seaborn as sns\n",
        "bplot = sns.boxplot(y='CAC index', x='cluster', \n",
        "                 data=df, \n",
        "                 width=0.5,\n",
        "                 palette=\"colorblind\")"
      ],
      "execution_count": 0,
      "outputs": [
        {
          "output_type": "stream",
          "text": [
            "Index(['crédits/dépôts', 'cours/valeur banques',\n",
            "       'rentabilité capitaux propres', 'rentabilité actifs',\n",
            "       'actifs bancaires consolidés', 'actifs des GSIB', 'inflation',\n",
            "       'Balance budgétaire Fr', 'Solde des transactions courantes Fr',\n",
            "       'CAC total return index', 'Eurostoxx total return index', 'CAC index',\n",
            "       'Eurostoxx Index', 'CAC financier', 'CAC biens consommation',\n",
            "       'CAC pétrole/gaz', 'Levier bancaire', 'cluster', 'date'],\n",
            "      dtype='object')\n"
          ],
          "name": "stdout"
        },
        {
          "output_type": "display_data",
          "data": {
            "image/png": "[encoded data removed]",
            "text/plain": [
              "<Figure size 432x288 with 1 Axes>"
            ]
          },
          "metadata": {
            "tags": [],
            "needs_background": "light"
          }
        }
      ]
    },
    {
      "cell_type": "code",
      "metadata": {
        "id": "de39VUxocwjC",
        "colab_type": "code",
        "outputId": "1f7371c8-6d8b-43d0-a8d5-c968b96f7016",
        "colab": {
          "base_uri": "https://localhost:8080/",
          "height": 427
        }
      },
      "source": [
        "print(df.columns)\n",
        "import seaborn as sns\n",
        "bplot = sns.boxplot(y='Balance budgétaire Fr', x='cluster', \n",
        "                 data=df, \n",
        "                 width=0.5,\n",
        "                 palette=\"colorblind\")"
      ],
      "execution_count": 0,
      "outputs": [
        {
          "output_type": "stream",
          "text": [
            "Index(['crédits/dépôts', 'cours/valeur banques',\n",
            "       'rentabilité capitaux propres', 'rentabilité actifs',\n",
            "       'actifs bancaires consolidés', 'actifs des GSIB', 'inflation',\n",
            "       'Balance budgétaire Fr', 'Solde des transactions courantes Fr',\n",
            "       'CAC total return index', 'Eurostoxx total return index', 'CAC index',\n",
            "       'Eurostoxx Index', 'CAC financier', 'CAC biens consommation',\n",
            "       'CAC pétrole/gaz', 'Levier bancaire', 'cluster', 'date'],\n",
            "      dtype='object')\n"
          ],
          "name": "stdout"
        },
        {
          "output_type": "display_data",
          "data": {
            "image/png": "[encoded data removed]",
            "text/plain": [
              "<Figure size 432x288 with 1 Axes>"
            ]
          },
          "metadata": {
            "tags": [],
            "needs_background": "light"
          }
        }
      ]
    }
  ]
}